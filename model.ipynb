{
 "cells": [
  {
   "cell_type": "code",
   "execution_count": 1,
   "metadata": {},
   "outputs": [
    {
     "name": "stderr",
     "output_type": "stream",
     "text": [
      "Using TensorFlow backend.\n",
      "c:\\users\\suran\\appdata\\local\\programs\\python\\python36\\lib\\site-packages\\h5py\\__init__.py:36: FutureWarning: Conversion of the second argument of issubdtype from `float` to `np.floating` is deprecated. In future, it will be treated as `np.float64 == np.dtype(float).type`.\n",
      "  from ._conv import register_converters as _register_converters\n"
     ]
    }
   ],
   "source": [
    "import os\n",
    "os.environ['CUDA_VISIBLE_DEVICES'] = ''\n",
    "import numpy as np\n",
    "from sklearn.model_selection import train_test_split\n",
    "from keras.models import Sequential, save_model\n",
    "from keras.optimizers import Adam\n",
    "from keras.callbacks import ModelCheckpoint\n",
    "from keras.layers import Conv2D, MaxPooling2D, Dropout, Dense, Flatten\n",
    "from utils import INPUT_SHAPE, generate_dataset"
   ]
  },
  {
   "cell_type": "code",
   "execution_count": 2,
   "metadata": {},
   "outputs": [],
   "source": [
    "data_X, data_Y = generate_dataset()"
   ]
  },
  {
   "cell_type": "code",
   "execution_count": 3,
   "metadata": {},
   "outputs": [],
   "source": [
    "X_train, X_test, Y_train, Y_test = train_test_split(data_X, data_Y, test_size = 0.2  )"
   ]
  },
  {
   "cell_type": "code",
   "execution_count": 4,
   "metadata": {},
   "outputs": [],
   "source": [
    "X_train = X_train/255.0\n",
    "X_test = X_test/255.0"
   ]
  },
  {
   "cell_type": "code",
   "execution_count": 5,
   "metadata": {},
   "outputs": [
    {
     "name": "stdout",
     "output_type": "stream",
     "text": [
      "(6251, 66, 200, 3) (1563, 66, 200, 3)\n",
      "(6251,) (1563,)\n"
     ]
    }
   ],
   "source": [
    "print (X_train.shape, X_test.shape)\n",
    "print (Y_train.shape, Y_test.shape)"
   ]
  },
  {
   "cell_type": "code",
   "execution_count": 6,
   "metadata": {},
   "outputs": [
    {
     "name": "stdout",
     "output_type": "stream",
     "text": [
      "WARNING:tensorflow:From c:\\users\\suran\\appdata\\local\\programs\\python\\python36\\lib\\site-packages\\keras\\backend\\tensorflow_backend.py:968: calling reduce_prod (from tensorflow.python.ops.math_ops) with keep_dims is deprecated and will be removed in a future version.\n",
      "Instructions for updating:\n",
      "keep_dims is deprecated, use keepdims instead\n",
      "____________________________________________________________________________________________________\n",
      "Layer (type)                     Output Shape          Param #     Connected to                     \n",
      "====================================================================================================\n",
      "convolution2d_1 (Convolution2D)  (None, 31, 98, 24)    1824        convolution2d_input_1[0][0]      \n",
      "____________________________________________________________________________________________________\n",
      "convolution2d_2 (Convolution2D)  (None, 14, 47, 36)    21636       convolution2d_1[0][0]            \n",
      "____________________________________________________________________________________________________\n",
      "convolution2d_3 (Convolution2D)  (None, 5, 22, 48)     43248       convolution2d_2[0][0]            \n",
      "____________________________________________________________________________________________________\n",
      "convolution2d_4 (Convolution2D)  (None, 3, 20, 64)     27712       convolution2d_3[0][0]            \n",
      "____________________________________________________________________________________________________\n",
      "convolution2d_5 (Convolution2D)  (None, 1, 18, 64)     36928       convolution2d_4[0][0]            \n",
      "____________________________________________________________________________________________________\n",
      "dropout_1 (Dropout)              (None, 1, 18, 64)     0           convolution2d_5[0][0]            \n",
      "____________________________________________________________________________________________________\n",
      "flatten_1 (Flatten)              (None, 1152)          0           dropout_1[0][0]                  \n",
      "____________________________________________________________________________________________________\n",
      "dense_1 (Dense)                  (None, 100)           115300      flatten_1[0][0]                  \n",
      "____________________________________________________________________________________________________\n",
      "dense_2 (Dense)                  (None, 50)            5050        dense_1[0][0]                    \n",
      "____________________________________________________________________________________________________\n",
      "dense_3 (Dense)                  (None, 10)            510         dense_2[0][0]                    \n",
      "____________________________________________________________________________________________________\n",
      "dense_4 (Dense)                  (None, 1)             11          dense_3[0][0]                    \n",
      "====================================================================================================\n",
      "Total params: 252,219\n",
      "Trainable params: 252,219\n",
      "Non-trainable params: 0\n",
      "____________________________________________________________________________________________________\n"
     ]
    }
   ],
   "source": [
    "model = Sequential()\n",
    "model.add(Conv2D(24, 5, 5, activation='relu',input_shape = INPUT_SHAPE, subsample=(2, 2)))\n",
    "model.add(Conv2D(36, 5, 5, activation='relu', subsample=(2, 2)))\n",
    "model.add(Conv2D(48, 5, 5, activation='relu', subsample=(2, 2)))\n",
    "model.add(Conv2D(64, 3, 3, activation='relu'))\n",
    "model.add(Conv2D(64, 3, 3, activation='relu'))\n",
    "model.add(Dropout(0.5))\n",
    "model.add(Flatten())\n",
    "model.add(Dense(100, activation='relu'))\n",
    "model.add(Dense(50, activation='relu'))\n",
    "model.add(Dense(10, activation='relu'))\n",
    "model.add(Dense(1))\n",
    "model.summary()"
   ]
  },
  {
   "cell_type": "code",
   "execution_count": 7,
   "metadata": {},
   "outputs": [
    {
     "name": "stdout",
     "output_type": "stream",
     "text": [
      "WARNING:tensorflow:From c:\\users\\suran\\appdata\\local\\programs\\python\\python36\\lib\\site-packages\\keras\\backend\\tensorflow_backend.py:996: calling reduce_mean (from tensorflow.python.ops.math_ops) with keep_dims is deprecated and will be removed in a future version.\n",
      "Instructions for updating:\n",
      "keep_dims is deprecated, use keepdims instead\n"
     ]
    }
   ],
   "source": [
    "checkpoint = ModelCheckpoint('model-{val_loss:.4f}.h5',\n",
    "                                 monitor='val_loss',\n",
    "                                 verbose=0,\n",
    "                                 save_best_only=True,\n",
    "                                 mode='auto')\n",
    "model.compile(loss='mean_squared_error', optimizer=Adam(lr=1.0e-4))"
   ]
  },
  {
   "cell_type": "code",
   "execution_count": 9,
   "metadata": {},
   "outputs": [
    {
     "name": "stdout",
     "output_type": "stream",
     "text": [
      "Train on 6251 samples, validate on 1563 samples\n",
      "Epoch 1/30\n",
      "6251/6251 [==============================] - 22s - loss: 0.0240 - val_loss: 0.0270\n",
      "Epoch 2/30\n",
      "6251/6251 [==============================] - 21s - loss: 0.0235 - val_loss: 0.0259\n",
      "Epoch 3/30\n",
      "6251/6251 [==============================] - 21s - loss: 0.0221 - val_loss: 0.0252\n",
      "Epoch 4/30\n",
      "6251/6251 [==============================] - 22s - loss: 0.0213 - val_loss: 0.0229\n",
      "Epoch 5/30\n",
      "6251/6251 [==============================] - 22s - loss: 0.0206 - val_loss: 0.0223\n",
      "Epoch 6/30\n",
      "6251/6251 [==============================] - 21s - loss: 0.0201 - val_loss: 0.0236\n",
      "Epoch 7/30\n",
      "6251/6251 [==============================] - 21s - loss: 0.0200 - val_loss: 0.0230\n",
      "Epoch 8/30\n",
      "6251/6251 [==============================] - 22s - loss: 0.0197 - val_loss: 0.0226\n",
      "Epoch 9/30\n",
      "6251/6251 [==============================] - 23s - loss: 0.0196 - val_loss: 0.0224\n",
      "Epoch 10/30\n",
      "6251/6251 [==============================] - 23s - loss: 0.0194 - val_loss: 0.0224\n",
      "Epoch 11/30\n",
      "6251/6251 [==============================] - 21s - loss: 0.0193 - val_loss: 0.0220\n",
      "Epoch 12/30\n",
      "6251/6251 [==============================] - 25s - loss: 0.0191 - val_loss: 0.0216\n",
      "Epoch 13/30\n",
      "6251/6251 [==============================] - 21s - loss: 0.0191 - val_loss: 0.0219\n",
      "Epoch 14/30\n",
      "6251/6251 [==============================] - 25s - loss: 0.0189 - val_loss: 0.0217\n",
      "Epoch 15/30\n",
      "6251/6251 [==============================] - 21s - loss: 0.0187 - val_loss: 0.0212\n",
      "Epoch 16/30\n",
      "6251/6251 [==============================] - 24s - loss: 0.0186 - val_loss: 0.0217\n",
      "Epoch 17/30\n",
      "6251/6251 [==============================] - 24s - loss: 0.0184 - val_loss: 0.0215\n",
      "Epoch 18/30\n",
      "6251/6251 [==============================] - 25s - loss: 0.0183 - val_loss: 0.0215\n",
      "Epoch 19/30\n",
      "6251/6251 [==============================] - 21s - loss: 0.0182 - val_loss: 0.0211\n",
      "Epoch 20/30\n",
      "6251/6251 [==============================] - 23s - loss: 0.0178 - val_loss: 0.0208\n",
      "Epoch 21/30\n",
      "6251/6251 [==============================] - 24s - loss: 0.0175 - val_loss: 0.0210\n",
      "Epoch 22/30\n",
      "6251/6251 [==============================] - 22s - loss: 0.0177 - val_loss: 0.0208\n",
      "Epoch 23/30\n",
      "6251/6251 [==============================] - 22s - loss: 0.0175 - val_loss: 0.0211\n",
      "Epoch 24/30\n",
      "6251/6251 [==============================] - 26s - loss: 0.0173 - val_loss: 0.0213\n",
      "Epoch 25/30\n",
      "6251/6251 [==============================] - 24s - loss: 0.0173 - val_loss: 0.0209\n",
      "Epoch 26/30\n",
      "6251/6251 [==============================] - 23s - loss: 0.0170 - val_loss: 0.0206\n",
      "Epoch 27/30\n",
      "6251/6251 [==============================] - 22s - loss: 0.0168 - val_loss: 0.0209\n",
      "Epoch 28/30\n",
      "6251/6251 [==============================] - 23s - loss: 0.0166 - val_loss: 0.0219\n",
      "Epoch 29/30\n",
      "6251/6251 [==============================] - 24s - loss: 0.0166 - val_loss: 0.0207\n",
      "Epoch 30/30\n",
      "6251/6251 [==============================] - 22s - loss: 0.0163 - val_loss: 0.0207\n"
     ]
    },
    {
     "data": {
      "text/plain": [
       "<keras.callbacks.History at 0x18455984748>"
      ]
     },
     "execution_count": 9,
     "metadata": {},
     "output_type": "execute_result"
    }
   ],
   "source": [
    "model.fit( X_train, Y_train, batch_size=32, nb_epoch=30, validation_data=(X_test, Y_test),callbacks=[checkpoint], shuffle=True )"
   ]
  }
 ],
 "metadata": {
  "kernelspec": {
   "display_name": "Python 3",
   "language": "python",
   "name": "python3"
  },
  "language_info": {
   "codemirror_mode": {
    "name": "ipython",
    "version": 3
   },
   "file_extension": ".py",
   "mimetype": "text/x-python",
   "name": "python",
   "nbconvert_exporter": "python",
   "pygments_lexer": "ipython3",
   "version": "3.6.2"
  }
 },
 "nbformat": 4,
 "nbformat_minor": 2
}
